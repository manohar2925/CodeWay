{
 "cells": [
  {
   "cell_type": "markdown",
   "id": "b9b8f95d",
   "metadata": {},
   "source": [
    "##  Codeway Task-3\n",
    "### Password Generator"
   ]
  },
  {
   "cell_type": "code",
   "execution_count": 6,
   "id": "4aae2c4e",
   "metadata": {},
   "outputs": [
    {
     "name": "stdout",
     "output_type": "stream",
     "text": [
      "Enter Length of Password:11\n",
      "Your PassWord is: pq50$hr61I7\n"
     ]
    }
   ],
   "source": [
    "import random\n",
    "import string\n",
    "\n",
    "def password_generator():\n",
    "    letters=list(string.ascii_lowercase+\n",
    "                 string.digits+\n",
    "                 string.ascii_uppercase+\n",
    "                 '#'+'$'+'&'+'@'+'%'+'$'+'@')\n",
    "    password=[random.choice(letters) for i in range(length)]\n",
    "    password_str = ''.join(password)\n",
    "    print(\"Your PassWord is:\",password_str)\n",
    "    \n",
    "\n",
    "try:\n",
    "    length=int(input(\"Enter Length of Password:\"))\n",
    "    if length>=8:\n",
    "        password_generator()\n",
    "    else:\n",
    "        print(\"Enter length above or Equal to 8\")\n",
    "except:\n",
    "    print(\"Invaild Input\")"
   ]
  },
  {
   "cell_type": "code",
   "execution_count": null,
   "id": "70e9914b",
   "metadata": {},
   "outputs": [],
   "source": []
  },
  {
   "cell_type": "code",
   "execution_count": null,
   "id": "4a8aeeb6",
   "metadata": {},
   "outputs": [],
   "source": []
  }
 ],
 "metadata": {
  "kernelspec": {
   "display_name": "Python 3 (ipykernel)",
   "language": "python",
   "name": "python3"
  },
  "language_info": {
   "codemirror_mode": {
    "name": "ipython",
    "version": 3
   },
   "file_extension": ".py",
   "mimetype": "text/x-python",
   "name": "python",
   "nbconvert_exporter": "python",
   "pygments_lexer": "ipython3",
   "version": "3.11.5"
  }
 },
 "nbformat": 4,
 "nbformat_minor": 5
}
