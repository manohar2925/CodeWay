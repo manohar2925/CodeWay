{
 "cells": [
  {
   "cell_type": "markdown",
   "id": "f383917c",
   "metadata": {},
   "source": [
    "## CodeWay Task-2\n",
    "### Simple Calculator"
   ]
  },
  {
   "cell_type": "code",
   "execution_count": 16,
   "id": "f1a9d179",
   "metadata": {},
   "outputs": [
    {
     "name": "stdout",
     "output_type": "stream",
     "text": [
      "Enter number:2\n",
      "Enter number:0\n",
      "Enter 0 for Addition\n",
      " Enter 1 for Subtraction\n",
      " Enter 2 for Multiplication\n",
      " Enter 3 for Division:\n",
      "3\n",
      "Invalid input,Zero cannot be divisible..!\n"
     ]
    }
   ],
   "source": [
    "def add():\n",
    "    result=num1+num2\n",
    "    print(\"Addtion of both numbers=\",result) \n",
    "\n",
    "def sub():\n",
    "    result=num1-num2\n",
    "    print(\"Subtraction of both numbers=\",result)\n",
    "    \n",
    "    \n",
    "def mul():\n",
    "    result=num1*num2\n",
    "    print(\"Multiplication of both numbers=\",result)\n",
    "    \n",
    "def div():\n",
    "    if num1 and num2!=0:\n",
    "        result=num1/num2\n",
    "        print(\"Division of both numbers=\",result)\n",
    "    else:\n",
    "        print(\"Invalid input,Zero cannot be divisible..!\")\n",
    "    \n",
    "try:    \n",
    "    num1=int(input(\"Enter number:\"))\n",
    "    num2=int(input(\"Enter number:\"))\n",
    "\n",
    "    choice=int(input(\"Enter 0 for Addition\\n Enter 1 for Subtraction\\n Enter 2 for Multiplication\\n Enter 3 for Division:\\n\"))\n",
    "    \n",
    "    if choice==0:\n",
    "        add()\n",
    "    elif choice==1:\n",
    "        sub()\n",
    "    elif choice==2:\n",
    "        mul()\n",
    "    elif choice==3:\n",
    "        div()\n",
    "    else:\n",
    "        print(\"Enter values between 0 to 3\")\n",
    "except Exception as e:\n",
    "    print(e)"
   ]
  },
  {
   "cell_type": "code",
   "execution_count": null,
   "id": "28ef42d5",
   "metadata": {},
   "outputs": [],
   "source": []
  }
 ],
 "metadata": {
  "kernelspec": {
   "display_name": "Python 3 (ipykernel)",
   "language": "python",
   "name": "python3"
  },
  "language_info": {
   "codemirror_mode": {
    "name": "ipython",
    "version": 3
   },
   "file_extension": ".py",
   "mimetype": "text/x-python",
   "name": "python",
   "nbconvert_exporter": "python",
   "pygments_lexer": "ipython3",
   "version": "3.11.5"
  }
 },
 "nbformat": 4,
 "nbformat_minor": 5
}
